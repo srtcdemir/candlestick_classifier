{
 "cells": [
  {
   "cell_type": "code",
   "execution_count": 17,
   "id": "801eb530-29de-4094-b125-6f0991a950d9",
   "metadata": {},
   "outputs": [],
   "source": [
    "import numpy as np\n",
    "import pandas as pd\n",
    "import warnings\n",
    "from sklearn.ensemble import RandomForestClassifier, AdaBoostClassifier\n",
    "warnings.filterwarnings('ignore')\n",
    "pd.set_option(\"display.max_rows\", 10, \"display.max_columns\", 10)\n",
    "from sklearn.metrics import mean_squared_error, confusion_matrix, accuracy_score\n",
    "from xgboost import XGBClassifier\n",
    "from sklearn.neural_network import MLPClassifier\n"
   ]
  },
  {
   "cell_type": "code",
   "execution_count": 25,
   "id": "c890cdb5-e516-4b85-85ec-d202668f2b90",
   "metadata": {},
   "outputs": [
    {
     "name": "stdout",
     "output_type": "stream",
     "text": [
      "(15000, 400) (15000,)\n"
     ]
    }
   ],
   "source": [
    "with open(\"data/label8_eurusd_10bar_1500_500_val200_gaf_culr.pkl\", 'rb') as f:\n",
    "    data = pd.read_pickle(f)\n",
    "    X = data[\"train_gaf\"]\n",
    "    X = X.reshape(X.shape[0], -1)\n",
    "    y = np.array([i.argmax() for i in data['train_label_arr']])\n",
    "    print(X.shape, y.shape)\n",
    "    test = data[\"test_gaf\"][:4500]\n",
    "    test = test.reshape(test.shape[0], -1)\n",
    "    test_label=np.array([i.argmax() for i in data['test_label_arr'][:4500]])"
   ]
  },
  {
   "cell_type": "markdown",
   "id": "5ec6ce23-b924-4013-95d1-eadeed43f8d4",
   "metadata": {},
   "source": [
    "ADABOOST CLASSIFIER"
   ]
  },
  {
   "cell_type": "code",
   "execution_count": 61,
   "id": "331a9c07-07b0-44e0-bf40-350ee56171f3",
   "metadata": {},
   "outputs": [
    {
     "data": {
      "text/plain": "AdaBoostClassifier()"
     },
     "execution_count": 61,
     "metadata": {},
     "output_type": "execute_result"
    }
   ],
   "source": [
    "ada=AdaBoostClassifier()\n",
    "ada.fit(X,y)"
   ]
  },
  {
   "cell_type": "code",
   "execution_count": 62,
   "id": "f436c0f8-df32-453c-9cd7-c0267ca8ab0a",
   "metadata": {},
   "outputs": [
    {
     "name": "stdout",
     "output_type": "stream",
     "text": [
      "6.84\n",
      "0.47955555555555557\n",
      "[[178  19  49  64  41  85  20   0  44]\n",
      " [ 30 119   0 314   0  36   1   0   0]\n",
      " [ 31   0 411   0  33   1   3   0  21]\n",
      " [  0   7   0 480   0  13   0   0   0]\n",
      " [  1   0  60   0  97   0   2   0 340]\n",
      " [ 51   4   0  97   0 348   0   0   0]\n",
      " [ 35   0  50   0  85   1 119   0 210]\n",
      " [  0   2   0 461   0  37   0   0   0]\n",
      " [  1   0  42   0  49   0   2   0 406]]\n"
     ]
    }
   ],
   "source": [
    "y_pred=ada.predict(test)\n",
    "conf_mat = confusion_matrix(test_label, y_pred)\n",
    "mse = mean_squared_error(test_label, y_pred)\n",
    "acc_score = accuracy_score(test_label, y_pred)\n",
    "print(mse)\n",
    "print(acc_score)\n",
    "print(conf_mat)"
   ]
  },
  {
   "cell_type": "markdown",
   "id": "9e23122d-2ad3-43b7-a67e-52e6c64264ab",
   "metadata": {},
   "source": [
    "RANDOM FOREST CLASSIFIER"
   ]
  },
  {
   "cell_type": "code",
   "execution_count": 19,
   "id": "fac2e874-d79d-4077-8618-b21c27d6abc8",
   "metadata": {},
   "outputs": [
    {
     "data": {
      "text/plain": "RandomForestClassifier()"
     },
     "execution_count": 19,
     "metadata": {},
     "output_type": "execute_result"
    }
   ],
   "source": [
    "clf = RandomForestClassifier()\n",
    "clf.fit(X, y)"
   ]
  },
  {
   "cell_type": "code",
   "execution_count": 35,
   "id": "ab27e2b5-516b-4c7c-a887-64b0a1c031f9",
   "metadata": {},
   "outputs": [
    {
     "name": "stdout",
     "output_type": "stream",
     "text": [
      "2.732\n",
      "0.8691111111111111\n",
      "[[386   8  12  17  19  21  10  14  13]\n",
      " [ 26 470   0   4   0   0   0   0   0]\n",
      " [ 26   0 472   0   2   0   0   0   0]\n",
      " [ 35  11   0 409   0   0   0  45   0]\n",
      " [ 28   0  18   0 392   0   2   0  60]\n",
      " [ 38   0   0   0   0 457   0   5   0]\n",
      " [ 50   0   0   0   0   0 446   0   4]\n",
      " [ 19   0   0  28   0   7   0 446   0]\n",
      " [ 30   0   0   0  33   0   4   0 433]]\n"
     ]
    }
   ],
   "source": [
    "y_pred=clf.predict(test)\n",
    "conf_mat = confusion_matrix(test_label, y_pred)\n",
    "mse = mean_squared_error(test_label, y_pred)\n",
    "acc_score = accuracy_score(test_label, y_pred)\n",
    "print(mse)\n",
    "print(acc_score)\n",
    "print(conf_mat)"
   ]
  },
  {
   "cell_type": "markdown",
   "id": "9dd93af8-d59e-4f4c-bab4-677e7ea18d75",
   "metadata": {},
   "source": [
    "MLP CLASSIFIER"
   ]
  },
  {
   "cell_type": "code",
   "execution_count": 50,
   "id": "d1a43634-9c53-46e2-a78f-185ef7a2b0dd",
   "metadata": {},
   "outputs": [
    {
     "data": {
      "text/plain": "MLPClassifier(hidden_layer_sizes=128, max_iter=300, random_state=1)"
     },
     "execution_count": 50,
     "metadata": {},
     "output_type": "execute_result"
    }
   ],
   "source": [
    "mlp = MLPClassifier(random_state=1, max_iter=300,hidden_layer_sizes=128)\n",
    "mlp.fit(X, y)"
   ]
  },
  {
   "cell_type": "code",
   "execution_count": 52,
   "id": "0d8e8759-aeba-4573-bd44-443eced19711",
   "metadata": {},
   "outputs": [
    {
     "name": "stdout",
     "output_type": "stream",
     "text": [
      "3.2666666666666666\n",
      "0.8548888888888889\n",
      "[[380  12  17  14  20  18   9  18  12]\n",
      " [ 24 475   0   1   0   0   0   0   0]\n",
      " [ 27   0 469   0   3   0   0   0   1]\n",
      " [ 47   7   0 415   0   0   0  31   0]\n",
      " [ 47   0  12   0 384   0   0   0  57]\n",
      " [ 38   0   0   0   0 458   0   4   0]\n",
      " [ 57   0   1   0   0   0 428   0  14]\n",
      " [ 45   0   0  35   0   7   0 413   0]\n",
      " [ 40   0   0   0  27   0   8   0 425]]\n"
     ]
    }
   ],
   "source": [
    "y_pred=mlp.predict(test)\n",
    "conf_mat = confusion_matrix(test_label, y_pred)\n",
    "mse = mean_squared_error(test_label, y_pred)\n",
    "acc_score = accuracy_score(test_label, y_pred)\n",
    "print(mse)\n",
    "print(acc_score)\n",
    "print(conf_mat)"
   ]
  },
  {
   "cell_type": "code",
   "execution_count": 53,
   "id": "212f016f-3492-4d47-affd-62b8355409af",
   "metadata": {},
   "outputs": [
    {
     "name": "stdout",
     "output_type": "stream",
     "text": [
      "[23:21:52] WARNING: C:/Users/Administrator/workspace/xgboost-win64_release_1.5.1/src/learner.cc:1115: Starting in XGBoost 1.3.0, the default evaluation metric used with the objective 'multi:softprob' was changed from 'merror' to 'mlogloss'. Explicitly set eval_metric if you'd like to restore the old behavior.\n"
     ]
    },
    {
     "data": {
      "text/plain": "XGBClassifier(base_score=0.5, booster='gbtree', colsample_bylevel=1,\n              colsample_bynode=1, colsample_bytree=1, enable_categorical=False,\n              gamma=0, gpu_id=-1, importance_type=None,\n              interaction_constraints='', learning_rate=0.300000012,\n              max_delta_step=0, max_depth=6, min_child_weight=1, missing=nan,\n              monotone_constraints='()', n_estimators=100, n_jobs=8,\n              num_parallel_tree=1, objective='multi:softprob', predictor='auto',\n              random_state=0, reg_alpha=0, reg_lambda=1, scale_pos_weight=None,\n              subsample=1, tree_method='exact', validate_parameters=1,\n              verbosity=None)"
     },
     "execution_count": 53,
     "metadata": {},
     "output_type": "execute_result"
    }
   ],
   "source": [
    "xgb = XGBClassifier()\n",
    "xgb.fit(X, y)"
   ]
  },
  {
   "cell_type": "code",
   "execution_count": 54,
   "id": "9da03852-91ba-41dd-aab0-baaa275f0eae",
   "metadata": {},
   "outputs": [
    {
     "name": "stdout",
     "output_type": "stream",
     "text": [
      "2.104\n",
      "0.904\n",
      "[[386  12  12  15  18  10  10  17  20]\n",
      " [ 19 478   0   3   0   0   0   0   0]\n",
      " [ 15   0 485   0   0   0   0   0   0]\n",
      " [ 36   9   0 430   0   0   0  25   0]\n",
      " [ 26   0   9   0 430   0   1   0  34]\n",
      " [ 21   0   0   0   0 476   0   3   0]\n",
      " [ 32   0   0   0   0   0 467   0   1]\n",
      " [ 22   0   0  17   0   1   0 460   0]\n",
      " [ 14   0   0   0  29   0   1   0 456]]\n"
     ]
    }
   ],
   "source": [
    "y_pred = xgb.predict(test)\n",
    "y_pred = [round(value) for value in y_pred]\n",
    "conf_mat = confusion_matrix(test_label, y_pred)\n",
    "mse = mean_squared_error(test_label, y_pred)\n",
    "acc_score = accuracy_score(test_label, y_pred)\n",
    "print(mse)\n",
    "print(acc_score)\n",
    "print(conf_mat)"
   ]
  }
 ],
 "metadata": {
  "kernelspec": {
   "display_name": "Python 3",
   "language": "python",
   "name": "python3"
  },
  "language_info": {
   "codemirror_mode": {
    "name": "ipython",
    "version": 3
   },
   "file_extension": ".py",
   "mimetype": "text/x-python",
   "name": "python",
   "nbconvert_exporter": "python",
   "pygments_lexer": "ipython3",
   "version": "3.7.11"
  }
 },
 "nbformat": 4,
 "nbformat_minor": 5
}